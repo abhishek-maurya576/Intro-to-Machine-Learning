{
 "cells": [
  {
   "cell_type": "markdown",
   "id": "8eff179e",
   "metadata": {
    "papermill": {
     "duration": 0.005426,
     "end_time": "2025-04-03T15:48:44.693813",
     "exception": false,
     "start_time": "2025-04-03T15:48:44.688387",
     "status": "completed"
    },
    "tags": []
   },
   "source": [
    "**This notebook is an exercise in the [Introduction to Machine Learning](https://www.kaggle.com/learn/intro-to-machine-learning) course.  You can reference the tutorial at [this link](https://www.kaggle.com/dansbecker/your-first-machine-learning-model).**\n",
    "\n",
    "---\n"
   ]
  },
  {
   "cell_type": "markdown",
   "id": "6bfbcb18",
   "metadata": {
    "papermill": {
     "duration": 0.004051,
     "end_time": "2025-04-03T15:48:44.702628",
     "exception": false,
     "start_time": "2025-04-03T15:48:44.698577",
     "status": "completed"
    },
    "tags": []
   },
   "source": [
    "## Recap\n",
    "So far, you have loaded your data and reviewed it with the following code. Run this cell to set up your coding environment where the previous step left off."
   ]
  },
  {
   "cell_type": "code",
   "execution_count": 1,
   "id": "77ee99a9",
   "metadata": {
    "execution": {
     "iopub.execute_input": "2025-04-03T15:48:44.713238Z",
     "iopub.status.busy": "2025-04-03T15:48:44.712809Z",
     "iopub.status.idle": "2025-04-03T15:48:47.911703Z",
     "shell.execute_reply": "2025-04-03T15:48:47.910152Z"
    },
    "papermill": {
     "duration": 3.206605,
     "end_time": "2025-04-03T15:48:47.913813",
     "exception": false,
     "start_time": "2025-04-03T15:48:44.707208",
     "status": "completed"
    },
    "tags": []
   },
   "outputs": [
    {
     "name": "stdout",
     "output_type": "stream",
     "text": [
      "Setup Complete\n"
     ]
    }
   ],
   "source": [
    "# Code you have previously used to load data\n",
    "import pandas as pd\n",
    "\n",
    "# Path of the file to read\n",
    "iowa_file_path = '../input/home-data-for-ml-course/train.csv'\n",
    "\n",
    "home_data = pd.read_csv(iowa_file_path)\n",
    "\n",
    "# Set up code checking\n",
    "from learntools.core import binder\n",
    "binder.bind(globals())\n",
    "from learntools.machine_learning.ex3 import *\n",
    "\n",
    "print(\"Setup Complete\")"
   ]
  },
  {
   "cell_type": "markdown",
   "id": "0a00cf6a",
   "metadata": {
    "papermill": {
     "duration": 0.004478,
     "end_time": "2025-04-03T15:48:47.923317",
     "exception": false,
     "start_time": "2025-04-03T15:48:47.918839",
     "status": "completed"
    },
    "tags": []
   },
   "source": [
    "# Exercises\n",
    "\n",
    "## Step 1: Specify Prediction Target\n",
    "Select the target variable, which corresponds to the sales price. Save this to a new variable called `y`. You'll need to print a list of the columns to find the name of the column you need.\n"
   ]
  },
  {
   "cell_type": "code",
   "execution_count": 2,
   "id": "28030bad",
   "metadata": {
    "execution": {
     "iopub.execute_input": "2025-04-03T15:48:47.934861Z",
     "iopub.status.busy": "2025-04-03T15:48:47.934132Z",
     "iopub.status.idle": "2025-04-03T15:48:47.941004Z",
     "shell.execute_reply": "2025-04-03T15:48:47.939601Z"
    },
    "papermill": {
     "duration": 0.014852,
     "end_time": "2025-04-03T15:48:47.942891",
     "exception": false,
     "start_time": "2025-04-03T15:48:47.928039",
     "status": "completed"
    },
    "tags": []
   },
   "outputs": [
    {
     "name": "stdout",
     "output_type": "stream",
     "text": [
      "Index(['Id', 'MSSubClass', 'MSZoning', 'LotFrontage', 'LotArea', 'Street',\n",
      "       'Alley', 'LotShape', 'LandContour', 'Utilities', 'LotConfig',\n",
      "       'LandSlope', 'Neighborhood', 'Condition1', 'Condition2', 'BldgType',\n",
      "       'HouseStyle', 'OverallQual', 'OverallCond', 'YearBuilt', 'YearRemodAdd',\n",
      "       'RoofStyle', 'RoofMatl', 'Exterior1st', 'Exterior2nd', 'MasVnrType',\n",
      "       'MasVnrArea', 'ExterQual', 'ExterCond', 'Foundation', 'BsmtQual',\n",
      "       'BsmtCond', 'BsmtExposure', 'BsmtFinType1', 'BsmtFinSF1',\n",
      "       'BsmtFinType2', 'BsmtFinSF2', 'BsmtUnfSF', 'TotalBsmtSF', 'Heating',\n",
      "       'HeatingQC', 'CentralAir', 'Electrical', '1stFlrSF', '2ndFlrSF',\n",
      "       'LowQualFinSF', 'GrLivArea', 'BsmtFullBath', 'BsmtHalfBath', 'FullBath',\n",
      "       'HalfBath', 'BedroomAbvGr', 'KitchenAbvGr', 'KitchenQual',\n",
      "       'TotRmsAbvGrd', 'Functional', 'Fireplaces', 'FireplaceQu', 'GarageType',\n",
      "       'GarageYrBlt', 'GarageFinish', 'GarageCars', 'GarageArea', 'GarageQual',\n",
      "       'GarageCond', 'PavedDrive', 'WoodDeckSF', 'OpenPorchSF',\n",
      "       'EnclosedPorch', '3SsnPorch', 'ScreenPorch', 'PoolArea', 'PoolQC',\n",
      "       'Fence', 'MiscFeature', 'MiscVal', 'MoSold', 'YrSold', 'SaleType',\n",
      "       'SaleCondition', 'SalePrice'],\n",
      "      dtype='object')\n"
     ]
    }
   ],
   "source": [
    "# print the list of columns in the dataset to find the name of the prediction target\n",
    "print(home_data.columns)"
   ]
  },
  {
   "cell_type": "code",
   "execution_count": 3,
   "id": "f7a2ebff",
   "metadata": {
    "execution": {
     "iopub.execute_input": "2025-04-03T15:48:47.954361Z",
     "iopub.status.busy": "2025-04-03T15:48:47.953883Z",
     "iopub.status.idle": "2025-04-03T15:48:47.970228Z",
     "shell.execute_reply": "2025-04-03T15:48:47.968888Z"
    },
    "papermill": {
     "duration": 0.024282,
     "end_time": "2025-04-03T15:48:47.972229",
     "exception": false,
     "start_time": "2025-04-03T15:48:47.947947",
     "status": "completed"
    },
    "tags": []
   },
   "outputs": [
    {
     "data": {
      "application/javascript": [
       "parent.postMessage({\"jupyterEvent\": \"custom.exercise_interaction\", \"data\": {\"outcomeType\": 1, \"valueTowardsCompletion\": 0.25, \"interactionType\": 1, \"questionType\": 2, \"questionId\": \"1_SetTarget\", \"learnToolsVersion\": \"0.3.4\", \"failureMessage\": \"\", \"exceptionClass\": \"\", \"trace\": \"\"}}, \"*\")"
      ],
      "text/plain": [
       "<IPython.core.display.Javascript object>"
      ]
     },
     "metadata": {},
     "output_type": "display_data"
    },
    {
     "data": {
      "text/markdown": [
       "<span style=\"color:#33cc33\">Correct</span>"
      ],
      "text/plain": [
       "Correct"
      ]
     },
     "metadata": {},
     "output_type": "display_data"
    }
   ],
   "source": [
    "y = home_data[\"SalePrice\"]\n",
    "# Check your answer\n",
    "step_1.check()"
   ]
  },
  {
   "cell_type": "code",
   "execution_count": 4,
   "id": "16d2c735",
   "metadata": {
    "collapsed": true,
    "execution": {
     "iopub.execute_input": "2025-04-03T15:48:47.985236Z",
     "iopub.status.busy": "2025-04-03T15:48:47.984725Z",
     "iopub.status.idle": "2025-04-03T15:48:47.989240Z",
     "shell.execute_reply": "2025-04-03T15:48:47.988183Z"
    },
    "jupyter": {
     "outputs_hidden": true
    },
    "papermill": {
     "duration": 0.013413,
     "end_time": "2025-04-03T15:48:47.991043",
     "exception": false,
     "start_time": "2025-04-03T15:48:47.977630",
     "status": "completed"
    },
    "tags": []
   },
   "outputs": [],
   "source": [
    "# The lines below will show you a hint or the solution.\n",
    "# step_1.hint() \n",
    "# step_1.solution()"
   ]
  },
  {
   "cell_type": "markdown",
   "id": "b0d4855b",
   "metadata": {
    "papermill": {
     "duration": 0.004701,
     "end_time": "2025-04-03T15:48:48.001129",
     "exception": false,
     "start_time": "2025-04-03T15:48:47.996428",
     "status": "completed"
    },
    "tags": []
   },
   "source": [
    "## Step 2: Create X\n",
    "Now you will create a DataFrame called `X` holding the predictive features.\n",
    "\n",
    "Since you want only some columns from the original data, you'll first create a list with the names of the columns you want in `X`.\n",
    "\n",
    "You'll use just the following columns in the list (you can copy and paste the whole list to save some typing, though you'll still need to add quotes):\n",
    "  * LotArea\n",
    "  * YearBuilt\n",
    "  * 1stFlrSF\n",
    "  * 2ndFlrSF\n",
    "  * FullBath\n",
    "  * BedroomAbvGr\n",
    "  * TotRmsAbvGrd\n",
    "\n",
    "After you've created that list of features, use it to create the DataFrame that you'll use to fit the model."
   ]
  },
  {
   "cell_type": "code",
   "execution_count": 5,
   "id": "92e77e58",
   "metadata": {
    "execution": {
     "iopub.execute_input": "2025-04-03T15:48:48.014026Z",
     "iopub.status.busy": "2025-04-03T15:48:48.013563Z",
     "iopub.status.idle": "2025-04-03T15:48:48.027543Z",
     "shell.execute_reply": "2025-04-03T15:48:48.026323Z"
    },
    "papermill": {
     "duration": 0.022891,
     "end_time": "2025-04-03T15:48:48.029515",
     "exception": false,
     "start_time": "2025-04-03T15:48:48.006624",
     "status": "completed"
    },
    "tags": []
   },
   "outputs": [
    {
     "data": {
      "application/javascript": [
       "parent.postMessage({\"jupyterEvent\": \"custom.exercise_interaction\", \"data\": {\"outcomeType\": 1, \"valueTowardsCompletion\": 0.25, \"interactionType\": 1, \"questionType\": 2, \"questionId\": \"2_SelectPredictionData\", \"learnToolsVersion\": \"0.3.4\", \"failureMessage\": \"\", \"exceptionClass\": \"\", \"trace\": \"\"}}, \"*\")"
      ],
      "text/plain": [
       "<IPython.core.display.Javascript object>"
      ]
     },
     "metadata": {},
     "output_type": "display_data"
    },
    {
     "data": {
      "text/markdown": [
       "<span style=\"color:#33cc33\">Correct</span>"
      ],
      "text/plain": [
       "Correct"
      ]
     },
     "metadata": {},
     "output_type": "display_data"
    }
   ],
   "source": [
    "# Create the list of features below\n",
    "feature_names = ['LotArea','YearBuilt','1stFlrSF','2ndFlrSF','FullBath','BedroomAbvGr','TotRmsAbvGrd']\n",
    "\n",
    "# Select data corresponding to features in feature_names\n",
    "X = home_data[feature_names]\n",
    "\n",
    "# Check your answer\n",
    "step_2.check()"
   ]
  },
  {
   "cell_type": "code",
   "execution_count": 6,
   "id": "c95250ac",
   "metadata": {
    "collapsed": true,
    "execution": {
     "iopub.execute_input": "2025-04-03T15:48:48.041889Z",
     "iopub.status.busy": "2025-04-03T15:48:48.041440Z",
     "iopub.status.idle": "2025-04-03T15:48:48.045612Z",
     "shell.execute_reply": "2025-04-03T15:48:48.044444Z"
    },
    "jupyter": {
     "outputs_hidden": true
    },
    "papermill": {
     "duration": 0.01226,
     "end_time": "2025-04-03T15:48:48.047381",
     "exception": false,
     "start_time": "2025-04-03T15:48:48.035121",
     "status": "completed"
    },
    "tags": []
   },
   "outputs": [],
   "source": [
    "# step_2.hint()\n",
    "# step_2.solution()"
   ]
  },
  {
   "cell_type": "markdown",
   "id": "36af2f99",
   "metadata": {
    "papermill": {
     "duration": 0.004995,
     "end_time": "2025-04-03T15:48:48.057958",
     "exception": false,
     "start_time": "2025-04-03T15:48:48.052963",
     "status": "completed"
    },
    "tags": []
   },
   "source": [
    "## Review Data\n",
    "Before building a model, take a quick look at **X** to verify it looks sensible"
   ]
  },
  {
   "cell_type": "code",
   "execution_count": 7,
   "id": "a60ca6fb",
   "metadata": {
    "execution": {
     "iopub.execute_input": "2025-04-03T15:48:48.070594Z",
     "iopub.status.busy": "2025-04-03T15:48:48.070080Z",
     "iopub.status.idle": "2025-04-03T15:48:48.074657Z",
     "shell.execute_reply": "2025-04-03T15:48:48.073338Z"
    },
    "papermill": {
     "duration": 0.013107,
     "end_time": "2025-04-03T15:48:48.076582",
     "exception": false,
     "start_time": "2025-04-03T15:48:48.063475",
     "status": "completed"
    },
    "tags": []
   },
   "outputs": [],
   "source": [
    "# Review data\n",
    "# print description or statistics from X\n",
    "#print(x.describe())\n",
    "\n",
    "# print the top few lines\n",
    "#print(x.head())"
   ]
  },
  {
   "cell_type": "markdown",
   "id": "77730ee9",
   "metadata": {
    "papermill": {
     "duration": 0.004744,
     "end_time": "2025-04-03T15:48:48.086645",
     "exception": false,
     "start_time": "2025-04-03T15:48:48.081901",
     "status": "completed"
    },
    "tags": []
   },
   "source": [
    "## Step 3: Specify and Fit Model\n",
    "Create a `DecisionTreeRegressor` and save it iowa_model. Ensure you've done the relevant import from sklearn to run this command.\n",
    "\n",
    "Then fit the model you just created using the data in `X` and `y` that you saved above."
   ]
  },
  {
   "cell_type": "code",
   "execution_count": 8,
   "id": "4067924a",
   "metadata": {
    "execution": {
     "iopub.execute_input": "2025-04-03T15:48:48.098497Z",
     "iopub.status.busy": "2025-04-03T15:48:48.097981Z",
     "iopub.status.idle": "2025-04-03T15:48:48.121609Z",
     "shell.execute_reply": "2025-04-03T15:48:48.120253Z"
    },
    "papermill": {
     "duration": 0.032942,
     "end_time": "2025-04-03T15:48:48.124628",
     "exception": false,
     "start_time": "2025-04-03T15:48:48.091686",
     "status": "completed"
    },
    "tags": []
   },
   "outputs": [
    {
     "data": {
      "application/javascript": [
       "parent.postMessage({\"jupyterEvent\": \"custom.exercise_interaction\", \"data\": {\"outcomeType\": 1, \"valueTowardsCompletion\": 0.25, \"interactionType\": 1, \"questionType\": 2, \"questionId\": \"3_CreateModel\", \"learnToolsVersion\": \"0.3.4\", \"failureMessage\": \"\", \"exceptionClass\": \"\", \"trace\": \"\"}}, \"*\")"
      ],
      "text/plain": [
       "<IPython.core.display.Javascript object>"
      ]
     },
     "metadata": {},
     "output_type": "display_data"
    },
    {
     "data": {
      "text/markdown": [
       "<span style=\"color:#33cc33\">Correct</span>"
      ],
      "text/plain": [
       "Correct"
      ]
     },
     "metadata": {},
     "output_type": "display_data"
    }
   ],
   "source": [
    "# Import the DecisionTreeRegressor from sklearn\n",
    "from sklearn.tree import DecisionTreeRegressor\n",
    "\n",
    "# Specify the model and set random_state for reproducibility\n",
    "iowa_model = DecisionTreeRegressor(random_state=1)\n",
    "\n",
    "# Fit the model using X and y\n",
    "iowa_model.fit(X, y)\n",
    "\n",
    "# Check your answer\n",
    "step_3.check()\n"
   ]
  },
  {
   "cell_type": "code",
   "execution_count": 9,
   "id": "4132ab6b",
   "metadata": {
    "collapsed": true,
    "execution": {
     "iopub.execute_input": "2025-04-03T15:48:48.137863Z",
     "iopub.status.busy": "2025-04-03T15:48:48.137432Z",
     "iopub.status.idle": "2025-04-03T15:48:48.141765Z",
     "shell.execute_reply": "2025-04-03T15:48:48.140653Z"
    },
    "jupyter": {
     "outputs_hidden": true
    },
    "papermill": {
     "duration": 0.01279,
     "end_time": "2025-04-03T15:48:48.143556",
     "exception": false,
     "start_time": "2025-04-03T15:48:48.130766",
     "status": "completed"
    },
    "tags": []
   },
   "outputs": [],
   "source": [
    "# step_3.hint()\n",
    "# step_3.solution()"
   ]
  },
  {
   "cell_type": "markdown",
   "id": "1b60a442",
   "metadata": {
    "papermill": {
     "duration": 0.00582,
     "end_time": "2025-04-03T15:48:48.155767",
     "exception": false,
     "start_time": "2025-04-03T15:48:48.149947",
     "status": "completed"
    },
    "tags": []
   },
   "source": [
    "## Step 4: Make Predictions\n",
    "Make predictions with the model's `predict` command using `X` as the data. Save the results to a variable called `predictions`."
   ]
  },
  {
   "cell_type": "code",
   "execution_count": 10,
   "id": "d9d9886d",
   "metadata": {
    "execution": {
     "iopub.execute_input": "2025-04-03T15:48:48.168709Z",
     "iopub.status.busy": "2025-04-03T15:48:48.168212Z",
     "iopub.status.idle": "2025-04-03T15:48:48.183494Z",
     "shell.execute_reply": "2025-04-03T15:48:48.182228Z"
    },
    "papermill": {
     "duration": 0.024214,
     "end_time": "2025-04-03T15:48:48.185610",
     "exception": false,
     "start_time": "2025-04-03T15:48:48.161396",
     "status": "completed"
    },
    "tags": []
   },
   "outputs": [
    {
     "name": "stdout",
     "output_type": "stream",
     "text": [
      "[208500. 181500. 223500. ... 266500. 142125. 147500.]\n"
     ]
    },
    {
     "data": {
      "application/javascript": [
       "parent.postMessage({\"jupyterEvent\": \"custom.exercise_interaction\", \"data\": {\"outcomeType\": 1, \"valueTowardsCompletion\": 0.25, \"interactionType\": 1, \"questionType\": 2, \"questionId\": \"4_MakePredictions\", \"learnToolsVersion\": \"0.3.4\", \"failureMessage\": \"\", \"exceptionClass\": \"\", \"trace\": \"\"}}, \"*\")"
      ],
      "text/plain": [
       "<IPython.core.display.Javascript object>"
      ]
     },
     "metadata": {},
     "output_type": "display_data"
    },
    {
     "data": {
      "text/markdown": [
       "<span style=\"color:#33cc33\">Correct</span>"
      ],
      "text/plain": [
       "Correct"
      ]
     },
     "metadata": {},
     "output_type": "display_data"
    }
   ],
   "source": [
    "# Make predictions using the model\n",
    "predictions = iowa_model.predict(X)\n",
    "\n",
    "# Print predictions\n",
    "print(predictions)\n",
    "\n",
    "# Check your answer\n",
    "step_4.check()\n"
   ]
  },
  {
   "cell_type": "code",
   "execution_count": 11,
   "id": "17bde956",
   "metadata": {
    "collapsed": true,
    "execution": {
     "iopub.execute_input": "2025-04-03T15:48:48.199420Z",
     "iopub.status.busy": "2025-04-03T15:48:48.198882Z",
     "iopub.status.idle": "2025-04-03T15:48:48.203605Z",
     "shell.execute_reply": "2025-04-03T15:48:48.202445Z"
    },
    "jupyter": {
     "outputs_hidden": true
    },
    "papermill": {
     "duration": 0.013927,
     "end_time": "2025-04-03T15:48:48.205514",
     "exception": false,
     "start_time": "2025-04-03T15:48:48.191587",
     "status": "completed"
    },
    "tags": []
   },
   "outputs": [],
   "source": [
    "# step_4.hint()\n",
    "# step_4.solution()"
   ]
  },
  {
   "cell_type": "markdown",
   "id": "684acfc2",
   "metadata": {
    "papermill": {
     "duration": 0.005731,
     "end_time": "2025-04-03T15:48:48.217294",
     "exception": false,
     "start_time": "2025-04-03T15:48:48.211563",
     "status": "completed"
    },
    "tags": []
   },
   "source": [
    "## Think About Your Results\n",
    "\n",
    "Use the `head` method to compare the top few predictions to the actual home values (in `y`) for those same homes. Anything surprising?\n"
   ]
  },
  {
   "cell_type": "code",
   "execution_count": 12,
   "id": "68321cd8",
   "metadata": {
    "execution": {
     "iopub.execute_input": "2025-04-03T15:48:48.230783Z",
     "iopub.status.busy": "2025-04-03T15:48:48.230206Z",
     "iopub.status.idle": "2025-04-03T15:48:48.245218Z",
     "shell.execute_reply": "2025-04-03T15:48:48.243838Z"
    },
    "papermill": {
     "duration": 0.024073,
     "end_time": "2025-04-03T15:48:48.247160",
     "exception": false,
     "start_time": "2025-04-03T15:48:48.223087",
     "status": "completed"
    },
    "tags": []
   },
   "outputs": [
    {
     "name": "stdout",
     "output_type": "stream",
     "text": [
      "   Predicted Price  Actual Price\n",
      "0         208500.0        208500\n",
      "1         181500.0        181500\n",
      "2         223500.0        223500\n",
      "3         140000.0        140000\n",
      "4         250000.0        250000\n"
     ]
    }
   ],
   "source": [
    "# You can write code in this cell\n",
    "# Compare the first few predictions with the actual home values\n",
    "comparison = pd.DataFrame({\"Predicted Price\": predictions[:5], \"Actual Price\": y.head()})\n",
    "\n",
    "# Print the comparison\n",
    "print(comparison)\n"
   ]
  },
  {
   "cell_type": "markdown",
   "id": "161606a7",
   "metadata": {
    "papermill": {
     "duration": 0.005558,
     "end_time": "2025-04-03T15:48:48.258768",
     "exception": false,
     "start_time": "2025-04-03T15:48:48.253210",
     "status": "completed"
    },
    "tags": []
   },
   "source": [
    "It's natural to ask how accurate the model's predictions will be and how you can improve that. That will be you're next step.\n",
    "\n",
    "# Keep Going\n",
    "\n",
    "You are ready for **[Model Validation](https://www.kaggle.com/dansbecker/model-validation).**\n"
   ]
  },
  {
   "cell_type": "markdown",
   "id": "ceb03d15",
   "metadata": {
    "papermill": {
     "duration": 0.005365,
     "end_time": "2025-04-03T15:48:48.270102",
     "exception": false,
     "start_time": "2025-04-03T15:48:48.264737",
     "status": "completed"
    },
    "tags": []
   },
   "source": [
    "---\n",
    "\n",
    "\n",
    "\n",
    "\n",
    "*Have questions or comments? Visit the [course discussion forum](https://www.kaggle.com/learn/intro-to-machine-learning/discussion) to chat with other learners.*"
   ]
  }
 ],
 "metadata": {
  "kaggle": {
   "accelerator": "none",
   "dataSources": [
    {
     "databundleVersionId": 111096,
     "sourceId": 10211,
     "sourceType": "competition"
    },
    {
     "datasetId": 11167,
     "sourceId": 15520,
     "sourceType": "datasetVersion"
    },
    {
     "datasetId": 2709,
     "sourceId": 38454,
     "sourceType": "datasetVersion"
    }
   ],
   "isGpuEnabled": false,
   "isInternetEnabled": false,
   "language": "python",
   "sourceType": "notebook"
  },
  "kernelspec": {
   "display_name": "Python 3",
   "language": "python",
   "name": "python3"
  },
  "language_info": {
   "codemirror_mode": {
    "name": "ipython",
    "version": 3
   },
   "file_extension": ".py",
   "mimetype": "text/x-python",
   "name": "python",
   "nbconvert_exporter": "python",
   "pygments_lexer": "ipython3",
   "version": "3.10.12"
  },
  "papermill": {
   "default_parameters": {},
   "duration": 7.595654,
   "end_time": "2025-04-03T15:48:49.100821",
   "environment_variables": {},
   "exception": null,
   "input_path": "__notebook__.ipynb",
   "output_path": "__notebook__.ipynb",
   "parameters": {},
   "start_time": "2025-04-03T15:48:41.505167",
   "version": "2.6.0"
  }
 },
 "nbformat": 4,
 "nbformat_minor": 5
}
